{
 "cells": [
  {
   "metadata": {
    "ExecuteTime": {
     "end_time": "2025-06-21T15:36:01.559870Z",
     "start_time": "2025-06-21T15:36:01.555093Z"
    }
   },
   "cell_type": "code",
   "source": [
    "import time\n",
    "import math\n",
    "import matplotlib.pyplot as plt\n",
    "from fractions import Fraction\n",
    "from itertools import combinations"
   ],
   "id": "4f0806508cac5a79",
   "outputs": [],
   "execution_count": 38
  },
  {
   "metadata": {
    "ExecuteTime": {
     "end_time": "2025-06-21T15:36:01.590860Z",
     "start_time": "2025-06-21T15:36:01.586827Z"
    }
   },
   "cell_type": "code",
   "source": [
    "# ==============================================================================\n",
    "# Fungsi Greedy (tidak berubah, digunakan sebagai helper)\n",
    "# ==============================================================================\n",
    "def greedy_egyptian_benchmark(p, q):\n",
    "    \"\"\"\n",
    "    Versi benchmark dari algoritma Greedy.\n",
    "    Mengembalikan list penyebut untuk diolah lebih lanjut.\n",
    "    \"\"\"\n",
    "    # Menggunakan objek Fraction untuk penanganan pecahan yang lebih aman.\n",
    "    frac = Fraction(p, q)\n",
    "    denominators = []\n",
    "\n",
    "    while frac.numerator != 0:\n",
    "        # math.ceil(1 / frac) secara otomatis menghitung penyebut berikutnya.\n",
    "        x = math.ceil(1 / frac)\n",
    "        denominators.append(x)\n",
    "        # Kurangi pecahan dengan 1/x untuk iterasi selanjutnya.\n",
    "        frac -= Fraction(1, x)\n",
    "\n",
    "    return denominators"
   ],
   "id": "5d331569046d2601",
   "outputs": [],
   "execution_count": 39
  },
  {
   "metadata": {
    "ExecuteTime": {
     "end_time": "2025-06-21T15:36:01.617286Z",
     "start_time": "2025-06-21T15:36:01.611374Z"
    }
   },
   "cell_type": "code",
   "source": [
    "# ==============================================================================\n",
    "# MESIN BRUTE FORCE BARU: The Small Multiple Method\n",
    "# ==============================================================================\n",
    "def _esm_find_combination(x, y):\n",
    "    \"\"\"\n",
    "    Fungsi inti brute-force. Mencari kombinasi 'ajaib'.\n",
    "    'esm' adalah singkatan dari Egypt Small Multiple.\n",
    "    \"\"\"\n",
    "    # Mulai dengan mencari kombinasi dari {1/1, 1/2, ...}\n",
    "    i = 1\n",
    "    while True:\n",
    "        # Siapkan 'amunisi': [Fraction(1,1), Fraction(1,2), ..., Fraction(1,i)]\n",
    "        candidate_fractions = [Fraction(1, j) for j in range(1, i + 1)]\n",
    "\n",
    "        # Coba semua panjang kombinasi (dari 1 sampai i)\n",
    "        for k in range(1, i + 1):\n",
    "            # Hasilkan semua subset dengan panjang k\n",
    "            for subset in combinations(candidate_fractions, k):\n",
    "                # Jumlahkan pecahan dalam subset\n",
    "                current_sum = sum(subset)\n",
    "\n",
    "                # PERBAIKAN 1: Pastikan kombinasi tidak lebih besar dari pecahan asli\n",
    "                # untuk menghindari sisa negatif.\n",
    "                if current_sum > Fraction(x,y):\n",
    "                    continue\n",
    "\n",
    "                a = current_sum.numerator\n",
    "                b = current_sum.denominator\n",
    "\n",
    "                # UJI AJAIB: Apakah kombinasi ini \"membatalkan\" faktor y?\n",
    "                if (x * b - a) % y == 0:\n",
    "                    # Jika ya, kita temukan kombinasi ajaib!\n",
    "                    print(f\"  > Ditemukan kombinasi ajaib setelah menguji {i} suku: {list(subset)}\")\n",
    "                    # Kembalikan list dari pecahan itu sendiri, bukan hanya jumlahnya.\n",
    "                    return list(subset)\n",
    "\n",
    "        # Jika tidak ada kombinasi yang ditemukan, tambah 'amunisi' dan coba lagi.\n",
    "        i += 1\n",
    "        # Pengaman darurat agar tidak berjalan selamanya pada kasus yang sangat sulit\n",
    "        if i > 20:\n",
    "             print(\"  > Batas pencarian kombinasi tercapai (i > 20).\")\n",
    "             return None\n",
    "\n",
    "\n",
    "def brute_force_small_multiple(x, y):\n",
    "    \"\"\"\n",
    "    Fungsi pembungkus yang mengimplementasikan logika Small Multiple Method.\n",
    "    Ini adalah fungsi yang akan kita benchmark.\n",
    "    \"\"\"\n",
    "    print(\"Menjalankan Brute Force (Small Multiple Method)...\")\n",
    "\n",
    "    # Langkah 1: Cari list kombinasi 'ajaib' (C) menggunakan brute force.\n",
    "    magic_combination_list = _esm_find_combination(x, y)\n",
    "\n",
    "    if magic_combination_list is None:\n",
    "        return [\"Gagal menemukan kombinasi\"]\n",
    "\n",
    "    # PERBAIKAN 2: Hitung jumlahnya di sini.\n",
    "    magic_combination_sum = sum(magic_combination_list)\n",
    "\n",
    "    # Langkah 2: Hitung \"sisa\" pecahannya: x/y - C\n",
    "    remainder_frac = Fraction(x, y) - magic_combination_sum\n",
    "\n",
    "    # Langkah 3: Gunakan algoritma Greedy yang cepat untuk menyelesaikan sisanya.\n",
    "    remainder_denoms = greedy_egyptian_benchmark(remainder_frac.numerator, remainder_frac.denominator)\n",
    "\n",
    "    # PERBAIKAN 3: Logika yang benar untuk menggabungkan hasil.\n",
    "    # Bagian pertama adalah penyebut dari setiap pecahan di kombinasi ajaib, dikalikan dengan y.\n",
    "    final_denominators = {frac.denominator * y for frac in magic_combination_list}\n",
    "\n",
    "    # Tambahkan penyebut dari bagian sisa.\n",
    "    final_denominators.update(remainder_denoms)\n",
    "\n",
    "    return sorted(list(final_denominators))"
   ],
   "id": "b8483bf037bf6d08",
   "outputs": [],
   "execution_count": 40
  },
  {
   "metadata": {
    "ExecuteTime": {
     "end_time": "2025-06-21T15:36:01.750487Z",
     "start_time": "2025-06-21T15:36:01.647470Z"
    }
   },
   "cell_type": "code",
   "source": [
    "# ==============================================================================\n",
    "# SKRIP UTAMA UNTUK BENCHMARK DAN PLOT\n",
    "# ==============================================================================\n",
    "\n",
    "# Pecahan yang akan diuji. Coba ubah-ubah nilai ini!\n",
    "# 4/13 adalah contoh yang sangat baik untuk metode ini karena 13 adalah bilangan prima.\n",
    "pembilang = 4\n",
    "penyebut = 13\n",
    "\n",
    "print(f\"Memulai benchmark untuk pecahan: {pembilang}/{penyebut}\\n\")\n",
    "\n",
    "# --- Benchmark Algoritma Greedy ---\n",
    "print(\"Menjalankan Greedy...\")\n",
    "start_time_greedy = time.perf_counter()\n",
    "result_greedy = greedy_egyptian_benchmark(pembilang, penyebut)\n",
    "end_time_greedy = time.perf_counter()\n",
    "time_greedy = end_time_greedy - start_time_greedy\n",
    "print(f\"Hasil Greedy: 1/{' + 1/'.join(map(str, result_greedy))}\")\n",
    "print(f\"Waktu eksekusi Greedy: {time_greedy:.10f} detik\\n\")\n",
    "\n",
    "\n",
    "# --- Benchmark Algoritma Brute Force BARU ---\n",
    "# Kita ganti pemanggilan fungsi brute_force lama dengan yang baru.\n",
    "start_time_bf = time.perf_counter()\n",
    "result_bf = brute_force_small_multiple(pembilang, penyebut)\n",
    "end_time_bf = time.perf_counter()\n",
    "time_bf = end_time_bf - start_time_bf\n",
    "\n",
    "if result_bf and isinstance(result_bf[0], int):\n",
    "    print(f\"Hasil Brute Force (Small Multiple): 1/{' + 1/'.join(map(str, result_bf))}\")\n",
    "else:\n",
    "    print(\"Brute force gagal menemukan solusi.\")\n",
    "print(f\"Waktu eksekusi Brute Force: {time_bf:.10f} detik\\n\")\n",
    "\n",
    "\n",
    "# --- Membuat Plot Grafik ---\n",
    "print(\"Membuat visualisasi grafik...\")\n",
    "\n",
    "algorithms = ['Greedy', 'Brute Force (Small Multiple)']\n",
    "times = [time_greedy, time_bf]\n",
    "\n",
    "plt.figure(figsize=(10, 6))\n",
    "bars = plt.bar(algorithms, times, color=['#4CAF50', '#FFC107'])\n",
    "\n",
    "plt.ylabel('Waktu Eksekusi (detik)')\n",
    "plt.title(f'Perbandingan Kecepatan Algoritma untuk Pecahan {pembilang}/{penyebut}')\n",
    "plt.yscale('log')\n",
    "plt.ylabel('Waktu Eksekusi (detik) - Skala Log')\n",
    "\n",
    "for bar in bars:\n",
    "    yval = bar.get_height()\n",
    "    plt.text(bar.get_x() + bar.get_width()/2.0, yval, f'{yval:.6f} s', va='bottom', ha='center')\n",
    "\n",
    "plt.show()\n"
   ],
   "id": "275ccbeb9e13899e",
   "outputs": [
    {
     "name": "stdout",
     "output_type": "stream",
     "text": [
      "Memulai benchmark untuk pecahan: 4/13\n",
      "\n",
      "Menjalankan Greedy...\n",
      "Hasil Greedy: 1/4 + 1/18 + 1/468\n",
      "Waktu eksekusi Greedy: 0.0001639000 detik\n",
      "\n",
      "Menjalankan Brute Force (Small Multiple Method)...\n",
      "  > Ditemukan kombinasi ajaib setelah menguji 10 suku: [Fraction(1, 10)]\n",
      "Hasil Brute Force (Small Multiple): 1/5 + 1/130\n",
      "Waktu eksekusi Brute Force: 0.0032833000 detik\n",
      "\n",
      "Membuat visualisasi grafik...\n"
     ]
    },
    {
     "data": {
      "text/plain": [
       "<Figure size 1000x600 with 1 Axes>"
      ],
      "image/png": "[encoded data removed]"
     },
     "metadata": {},
     "output_type": "display_data"
    }
   ],
   "execution_count": 41
  },
  {
   "metadata": {
    "ExecuteTime": {
     "end_time": "2025-06-21T15:36:01.765400Z",
     "start_time": "2025-06-21T15:36:01.762626Z"
    }
   },
   "cell_type": "code",
   "source": "",
   "id": "517d67e606f36d49",
   "outputs": [],
   "execution_count": null
  }
 ],
 "metadata": {
  "kernelspec": {
   "display_name": "Python 3",
   "language": "python",
   "name": "python3"
  },
  "language_info": {
   "codemirror_mode": {
    "name": "ipython",
    "version": 2
   },
   "file_extension": ".py",
   "mimetype": "text/x-python",
   "name": "python",
   "nbconvert_exporter": "python",
   "pygments_lexer": "ipython2",
   "version": "2.7.6"
  }
 },
 "nbformat": 4,
 "nbformat_minor": 5
}
