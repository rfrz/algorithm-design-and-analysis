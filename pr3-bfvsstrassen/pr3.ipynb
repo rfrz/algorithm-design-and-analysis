{
 "cells": [
  {
   "metadata": {
    "ExecuteTime": {
     "end_time": "2025-06-13T04:30:42.661583Z",
     "start_time": "2025-06-13T04:30:41.977938Z"
    }
   },
   "cell_type": "code",
   "source": [
    "import time\n",
    "import random\n",
    "import pandas as pd\n",
    "import matplotlib.pyplot as plt"
   ],
   "id": "2245d1f4da4931e1",
   "outputs": [],
   "execution_count": 1
  },
  {
   "metadata": {
    "ExecuteTime": {
     "end_time": "2025-06-13T04:30:42.772270Z",
     "start_time": "2025-06-13T04:30:42.768315Z"
    }
   },
   "cell_type": "code",
   "source": [
    "def KaliMatriks(A, B, n):\n",
    "    \"\"\"\n",
    "    Brute-force matrix multiplication.\n",
    "    Kembalikan (C, op_count) di mana op_count = # (mul + add).\n",
    "    \"\"\"\n",
    "    C = [[0]*n for _ in range(n)]\n",
    "    ops = 0\n",
    "    for i in range(n):\n",
    "        for j in range(n):\n",
    "            for k in range(n):\n",
    "                C[i][j] += A[i][k] * B[k][j]\n",
    "                ops += 2    # satu multiplikasi + satu penjumlahan\n",
    "    return C, ops"
   ],
   "id": "7faeb4628222be4c",
   "outputs": [],
   "execution_count": 2
  },
  {
   "metadata": {
    "ExecuteTime": {
     "end_time": "2025-06-13T04:30:42.799368Z",
     "start_time": "2025-06-13T04:30:42.787340Z"
    }
   },
   "cell_type": "code",
   "source": [
    "def add_matrix(A, B, bucket):\n",
    "    n = len(A)\n",
    "    bucket[0] += n*n                  # hitung penjumlahan\n",
    "    return [[A[i][j] + B[i][j] for j in range(n)] for i in range(n)]\n",
    "\n",
    "def sub_matrix(A, B, bucket):\n",
    "    n = len(A)\n",
    "    bucket[0] += n*n                  # hitung pengurangan\n",
    "    return [[A[i][j] - B[i][j] for j in range(n)] for i in range(n)]\n",
    "#———————————————————————————————————————\n",
    "# 3. Strassen + bucket global utk ops\n",
    "#———————————————————————————————————————\n",
    "def KaliMatriksStrassen(A, B, n):\n",
    "    bucket = [0]                      # wadah bersama\n",
    "    C = _strassen_rec(A, B, n, bucket)\n",
    "    return C, bucket[0]               # jaga antarmuka lama\n",
    "\n",
    "def _strassen_rec(A, B, n, bucket):\n",
    "    if n == 1:                        # basis rekursi\n",
    "        bucket[0] += 1                # 1 perkalian skalar\n",
    "        return [[A[0][0] * B[0][0]]]\n",
    "\n",
    "    mid = n // 2\n",
    "    # — split —\n",
    "    A11 = [row[:mid] for row in A[:mid]]\n",
    "    A12 = [row[mid:] for row in A[:mid]]\n",
    "    A21 = [row[:mid] for row in A[mid:]]\n",
    "    A22 = [row[mid:] for row in A[mid:]]\n",
    "\n",
    "    B11 = [row[:mid] for row in B[:mid]]\n",
    "    B12 = [row[mid:] for row in B[:mid]]\n",
    "    B21 = [row[:mid] for row in B[mid:]]\n",
    "    B22 = [row[mid:] for row in B[mid:]]\n",
    "\n",
    "    # — 7 proyek Strassen —\n",
    "    M1 = _strassen_rec(sub_matrix(A12, A22, bucket),\n",
    "                       add_matrix(B21, B22, bucket), mid, bucket)\n",
    "    M2 = _strassen_rec(add_matrix(A11, A22, bucket),\n",
    "                       add_matrix(B11, B22, bucket), mid, bucket)\n",
    "    M3 = _strassen_rec(sub_matrix(A11, A21, bucket),\n",
    "                       add_matrix(B11, B12, bucket), mid, bucket)\n",
    "    M4 = _strassen_rec(add_matrix(A11, A12, bucket),\n",
    "                       B22, mid, bucket)\n",
    "    M5 = _strassen_rec(A11,\n",
    "                       sub_matrix(B12, B22, bucket), mid, bucket)\n",
    "    M6 = _strassen_rec(A22,\n",
    "                       sub_matrix(B21, B11, bucket), mid, bucket)\n",
    "    M7 = _strassen_rec(add_matrix(A21, A22, bucket),\n",
    "                       B11, mid, bucket)\n",
    "\n",
    "    # — rakit C —\n",
    "    C11 = add_matrix(sub_matrix(add_matrix(M1, M2, bucket),\n",
    "                                M4, bucket), M6, bucket)\n",
    "    C12 = add_matrix(M4, M5, bucket)\n",
    "    C21 = add_matrix(M6, M7, bucket)\n",
    "    C22 = sub_matrix(add_matrix(sub_matrix(M2, M3, bucket),\n",
    "                                M5, bucket), M7, bucket)\n",
    "\n",
    "    C = [[0]*n for _ in range(n)]\n",
    "    for i in range(mid):\n",
    "        C[i][:mid]       = C11[i]\n",
    "        C[i][mid:]       = C12[i]\n",
    "        C[mid+i][:mid]   = C21[i]\n",
    "        C[mid+i][mid:]   = C22[i]\n",
    "    return C"
   ],
   "id": "a988eda34eede271",
   "outputs": [],
   "execution_count": 3
  },
  {
   "metadata": {
    "ExecuteTime": {
     "end_time": "2025-06-13T04:31:09.248932Z",
     "start_time": "2025-06-13T04:30:42.812012Z"
    }
   },
   "cell_type": "code",
   "source": [
    "n_values = [2, 4, 8, 16, 32, 64, 512, 1024]\n",
    "records = []\n",
    "\n",
    "for n in n_values:\n",
    "    A = [[random.randint(0,10) for _ in range(n)] for _ in range(n)]\n",
    "    B = [[random.randint(0,10) for _ in range(n)] for _ in range(n)]\n",
    "\n",
    "    t0 = time.perf_counter()\n",
    "    _, bf_ops = KaliMatriks(A, B, n)\n",
    "    t_bf = time.perf_counter() - t0\n",
    "\n",
    "    t0 = time.perf_counter()\n",
    "    _, st_ops = KaliMatriksStrassen(A, B, n)\n",
    "    t_st = time.perf_counter() - t0\n",
    "\n",
    "    records.append({'n': n, 'time_bf': t_bf, 'ops_bf': bf_ops,\n",
    "                            'time_st': t_st, 'ops_st': st_ops})\n",
    "\n",
    "df = pd.DataFrame(records)\n",
    "print(df.to_string(index=False))\n",
    "\n",
    "plt.figure()\n",
    "plt.plot(df['n'], df['time_bf'], label='Brute-Force')\n",
    "plt.plot(df['n'], df['time_st'], label='Strassen (bucket)')\n",
    "plt.xlabel('n'); plt.ylabel('Waktu (s)'); plt.legend(); plt.title('Waktu vs n')\n",
    "\n",
    "plt.figure()\n",
    "plt.plot(df['n'], df['ops_bf'], label='Brute-Force')\n",
    "plt.plot(df['n'], df['ops_st'], label='Strassen (bucket)')\n",
    "plt.xlabel('n'); plt.ylabel('Jumlah Operasi'); plt.legend(); plt.title('Operasi vs n')\n",
    "plt.show()"
   ],
   "id": "ebbd153fe62d8e2d",
   "outputs": [
    {
     "ename": "KeyboardInterrupt",
     "evalue": "",
     "output_type": "error",
     "traceback": [
      "\u001B[31m---------------------------------------------------------------------------\u001B[39m",
      "\u001B[31mKeyboardInterrupt\u001B[39m                         Traceback (most recent call last)",
      "\u001B[36mCell\u001B[39m\u001B[36m \u001B[39m\u001B[32mIn[4]\u001B[39m\u001B[32m, line 13\u001B[39m\n\u001B[32m     10\u001B[39m t_bf = time.perf_counter() - t0\n\u001B[32m     12\u001B[39m t0 = time.perf_counter()\n\u001B[32m---> \u001B[39m\u001B[32m13\u001B[39m _, st_ops = \u001B[43mKaliMatriksStrassen\u001B[49m\u001B[43m(\u001B[49m\u001B[43mA\u001B[49m\u001B[43m,\u001B[49m\u001B[43m \u001B[49m\u001B[43mB\u001B[49m\u001B[43m,\u001B[49m\u001B[43m \u001B[49m\u001B[43mn\u001B[49m\u001B[43m)\u001B[49m\n\u001B[32m     14\u001B[39m t_st = time.perf_counter() - t0\n\u001B[32m     16\u001B[39m records.append({\u001B[33m'\u001B[39m\u001B[33mn\u001B[39m\u001B[33m'\u001B[39m: n, \u001B[33m'\u001B[39m\u001B[33mtime_bf\u001B[39m\u001B[33m'\u001B[39m: t_bf, \u001B[33m'\u001B[39m\u001B[33mops_bf\u001B[39m\u001B[33m'\u001B[39m: bf_ops,\n\u001B[32m     17\u001B[39m                         \u001B[33m'\u001B[39m\u001B[33mtime_st\u001B[39m\u001B[33m'\u001B[39m: t_st, \u001B[33m'\u001B[39m\u001B[33mops_st\u001B[39m\u001B[33m'\u001B[39m: st_ops})\n",
      "\u001B[36mCell\u001B[39m\u001B[36m \u001B[39m\u001B[32mIn[3]\u001B[39m\u001B[32m, line 15\u001B[39m, in \u001B[36mKaliMatriksStrassen\u001B[39m\u001B[34m(A, B, n)\u001B[39m\n\u001B[32m     13\u001B[39m \u001B[38;5;28;01mdef\u001B[39;00m\u001B[38;5;250m \u001B[39m\u001B[34mKaliMatriksStrassen\u001B[39m(A, B, n):\n\u001B[32m     14\u001B[39m     bucket = [\u001B[32m0\u001B[39m]                      \u001B[38;5;66;03m# wadah bersama\u001B[39;00m\n\u001B[32m---> \u001B[39m\u001B[32m15\u001B[39m     C = \u001B[43m_strassen_rec\u001B[49m\u001B[43m(\u001B[49m\u001B[43mA\u001B[49m\u001B[43m,\u001B[49m\u001B[43m \u001B[49m\u001B[43mB\u001B[49m\u001B[43m,\u001B[49m\u001B[43m \u001B[49m\u001B[43mn\u001B[49m\u001B[43m,\u001B[49m\u001B[43m \u001B[49m\u001B[43mbucket\u001B[49m\u001B[43m)\u001B[49m\n\u001B[32m     16\u001B[39m     \u001B[38;5;28;01mreturn\u001B[39;00m C, bucket[\u001B[32m0\u001B[39m]\n",
      "\u001B[36mCell\u001B[39m\u001B[36m \u001B[39m\u001B[32mIn[3]\u001B[39m\u001B[32m, line 38\u001B[39m, in \u001B[36m_strassen_rec\u001B[39m\u001B[34m(A, B, n, bucket)\u001B[39m\n\u001B[32m     35\u001B[39m \u001B[38;5;66;03m# — 7 proyek Strassen —\u001B[39;00m\n\u001B[32m     36\u001B[39m M1 = _strassen_rec(sub_matrix(A12, A22, bucket),\n\u001B[32m     37\u001B[39m                    add_matrix(B21, B22, bucket), mid, bucket)\n\u001B[32m---> \u001B[39m\u001B[32m38\u001B[39m M2 = \u001B[43m_strassen_rec\u001B[49m\u001B[43m(\u001B[49m\u001B[43madd_matrix\u001B[49m\u001B[43m(\u001B[49m\u001B[43mA11\u001B[49m\u001B[43m,\u001B[49m\u001B[43m \u001B[49m\u001B[43mA22\u001B[49m\u001B[43m,\u001B[49m\u001B[43m \u001B[49m\u001B[43mbucket\u001B[49m\u001B[43m)\u001B[49m\u001B[43m,\u001B[49m\n\u001B[32m     39\u001B[39m \u001B[43m                   \u001B[49m\u001B[43madd_matrix\u001B[49m\u001B[43m(\u001B[49m\u001B[43mB11\u001B[49m\u001B[43m,\u001B[49m\u001B[43m \u001B[49m\u001B[43mB22\u001B[49m\u001B[43m,\u001B[49m\u001B[43m \u001B[49m\u001B[43mbucket\u001B[49m\u001B[43m)\u001B[49m\u001B[43m,\u001B[49m\u001B[43m \u001B[49m\u001B[43mmid\u001B[49m\u001B[43m,\u001B[49m\u001B[43m \u001B[49m\u001B[43mbucket\u001B[49m\u001B[43m)\u001B[49m\n\u001B[32m     40\u001B[39m M3 = _strassen_rec(sub_matrix(A11, A21, bucket),\n\u001B[32m     41\u001B[39m                    add_matrix(B11, B12, bucket), mid, bucket)\n\u001B[32m     42\u001B[39m M4 = _strassen_rec(add_matrix(A11, A12, bucket),\n\u001B[32m     43\u001B[39m                    B22, mid, bucket)\n",
      "\u001B[36mCell\u001B[39m\u001B[36m \u001B[39m\u001B[32mIn[3]\u001B[39m\u001B[32m, line 36\u001B[39m, in \u001B[36m_strassen_rec\u001B[39m\u001B[34m(A, B, n, bucket)\u001B[39m\n\u001B[32m     33\u001B[39m B22 = [row[mid:] \u001B[38;5;28;01mfor\u001B[39;00m row \u001B[38;5;129;01min\u001B[39;00m B[mid:]]\n\u001B[32m     35\u001B[39m \u001B[38;5;66;03m# — 7 proyek Strassen —\u001B[39;00m\n\u001B[32m---> \u001B[39m\u001B[32m36\u001B[39m M1 = \u001B[43m_strassen_rec\u001B[49m\u001B[43m(\u001B[49m\u001B[43msub_matrix\u001B[49m\u001B[43m(\u001B[49m\u001B[43mA12\u001B[49m\u001B[43m,\u001B[49m\u001B[43m \u001B[49m\u001B[43mA22\u001B[49m\u001B[43m,\u001B[49m\u001B[43m \u001B[49m\u001B[43mbucket\u001B[49m\u001B[43m)\u001B[49m\u001B[43m,\u001B[49m\n\u001B[32m     37\u001B[39m \u001B[43m                   \u001B[49m\u001B[43madd_matrix\u001B[49m\u001B[43m(\u001B[49m\u001B[43mB21\u001B[49m\u001B[43m,\u001B[49m\u001B[43m \u001B[49m\u001B[43mB22\u001B[49m\u001B[43m,\u001B[49m\u001B[43m \u001B[49m\u001B[43mbucket\u001B[49m\u001B[43m)\u001B[49m\u001B[43m,\u001B[49m\u001B[43m \u001B[49m\u001B[43mmid\u001B[49m\u001B[43m,\u001B[49m\u001B[43m \u001B[49m\u001B[43mbucket\u001B[49m\u001B[43m)\u001B[49m\n\u001B[32m     38\u001B[39m M2 = _strassen_rec(add_matrix(A11, A22, bucket),\n\u001B[32m     39\u001B[39m                    add_matrix(B11, B22, bucket), mid, bucket)\n\u001B[32m     40\u001B[39m M3 = _strassen_rec(sub_matrix(A11, A21, bucket),\n\u001B[32m     41\u001B[39m                    add_matrix(B11, B12, bucket), mid, bucket)\n",
      "\u001B[36mCell\u001B[39m\u001B[36m \u001B[39m\u001B[32mIn[3]\u001B[39m\u001B[32m, line 48\u001B[39m, in \u001B[36m_strassen_rec\u001B[39m\u001B[34m(A, B, n, bucket)\u001B[39m\n\u001B[32m     44\u001B[39m M5 = _strassen_rec(A11,\n\u001B[32m     45\u001B[39m                    sub_matrix(B12, B22, bucket), mid, bucket)\n\u001B[32m     46\u001B[39m M6 = _strassen_rec(A22,\n\u001B[32m     47\u001B[39m                    sub_matrix(B21, B11, bucket), mid, bucket)\n\u001B[32m---> \u001B[39m\u001B[32m48\u001B[39m M7 = \u001B[43m_strassen_rec\u001B[49m\u001B[43m(\u001B[49m\u001B[43madd_matrix\u001B[49m\u001B[43m(\u001B[49m\u001B[43mA21\u001B[49m\u001B[43m,\u001B[49m\u001B[43m \u001B[49m\u001B[43mA22\u001B[49m\u001B[43m,\u001B[49m\u001B[43m \u001B[49m\u001B[43mbucket\u001B[49m\u001B[43m)\u001B[49m\u001B[43m,\u001B[49m\n\u001B[32m     49\u001B[39m \u001B[43m                   \u001B[49m\u001B[43mB11\u001B[49m\u001B[43m,\u001B[49m\u001B[43m \u001B[49m\u001B[43mmid\u001B[49m\u001B[43m,\u001B[49m\u001B[43m \u001B[49m\u001B[43mbucket\u001B[49m\u001B[43m)\u001B[49m\n\u001B[32m     51\u001B[39m \u001B[38;5;66;03m# — rakit C —\u001B[39;00m\n\u001B[32m     52\u001B[39m C11 = add_matrix(sub_matrix(add_matrix(M1, M2, bucket),\n\u001B[32m     53\u001B[39m                             M4, bucket), M6, bucket)\n",
      "\u001B[36mCell\u001B[39m\u001B[36m \u001B[39m\u001B[32mIn[3]\u001B[39m\u001B[32m, line 48\u001B[39m, in \u001B[36m_strassen_rec\u001B[39m\u001B[34m(A, B, n, bucket)\u001B[39m\n\u001B[32m     44\u001B[39m M5 = _strassen_rec(A11,\n\u001B[32m     45\u001B[39m                    sub_matrix(B12, B22, bucket), mid, bucket)\n\u001B[32m     46\u001B[39m M6 = _strassen_rec(A22,\n\u001B[32m     47\u001B[39m                    sub_matrix(B21, B11, bucket), mid, bucket)\n\u001B[32m---> \u001B[39m\u001B[32m48\u001B[39m M7 = \u001B[43m_strassen_rec\u001B[49m\u001B[43m(\u001B[49m\u001B[43madd_matrix\u001B[49m\u001B[43m(\u001B[49m\u001B[43mA21\u001B[49m\u001B[43m,\u001B[49m\u001B[43m \u001B[49m\u001B[43mA22\u001B[49m\u001B[43m,\u001B[49m\u001B[43m \u001B[49m\u001B[43mbucket\u001B[49m\u001B[43m)\u001B[49m\u001B[43m,\u001B[49m\n\u001B[32m     49\u001B[39m \u001B[43m                   \u001B[49m\u001B[43mB11\u001B[49m\u001B[43m,\u001B[49m\u001B[43m \u001B[49m\u001B[43mmid\u001B[49m\u001B[43m,\u001B[49m\u001B[43m \u001B[49m\u001B[43mbucket\u001B[49m\u001B[43m)\u001B[49m\n\u001B[32m     51\u001B[39m \u001B[38;5;66;03m# — rakit C —\u001B[39;00m\n\u001B[32m     52\u001B[39m C11 = add_matrix(sub_matrix(add_matrix(M1, M2, bucket),\n\u001B[32m     53\u001B[39m                             M4, bucket), M6, bucket)\n",
      "\u001B[36mCell\u001B[39m\u001B[36m \u001B[39m\u001B[32mIn[3]\u001B[39m\u001B[32m, line 46\u001B[39m, in \u001B[36m_strassen_rec\u001B[39m\u001B[34m(A, B, n, bucket)\u001B[39m\n\u001B[32m     42\u001B[39m M4 = _strassen_rec(add_matrix(A11, A12, bucket),\n\u001B[32m     43\u001B[39m                    B22, mid, bucket)\n\u001B[32m     44\u001B[39m M5 = _strassen_rec(A11,\n\u001B[32m     45\u001B[39m                    sub_matrix(B12, B22, bucket), mid, bucket)\n\u001B[32m---> \u001B[39m\u001B[32m46\u001B[39m M6 = \u001B[43m_strassen_rec\u001B[49m\u001B[43m(\u001B[49m\u001B[43mA22\u001B[49m\u001B[43m,\u001B[49m\n\u001B[32m     47\u001B[39m \u001B[43m                   \u001B[49m\u001B[43msub_matrix\u001B[49m\u001B[43m(\u001B[49m\u001B[43mB21\u001B[49m\u001B[43m,\u001B[49m\u001B[43m \u001B[49m\u001B[43mB11\u001B[49m\u001B[43m,\u001B[49m\u001B[43m \u001B[49m\u001B[43mbucket\u001B[49m\u001B[43m)\u001B[49m\u001B[43m,\u001B[49m\u001B[43m \u001B[49m\u001B[43mmid\u001B[49m\u001B[43m,\u001B[49m\u001B[43m \u001B[49m\u001B[43mbucket\u001B[49m\u001B[43m)\u001B[49m\n\u001B[32m     48\u001B[39m M7 = _strassen_rec(add_matrix(A21, A22, bucket),\n\u001B[32m     49\u001B[39m                    B11, mid, bucket)\n\u001B[32m     51\u001B[39m \u001B[38;5;66;03m# — rakit C —\u001B[39;00m\n",
      "\u001B[36mCell\u001B[39m\u001B[36m \u001B[39m\u001B[32mIn[3]\u001B[39m\u001B[32m, line 44\u001B[39m, in \u001B[36m_strassen_rec\u001B[39m\u001B[34m(A, B, n, bucket)\u001B[39m\n\u001B[32m     40\u001B[39m M3 = _strassen_rec(sub_matrix(A11, A21, bucket),\n\u001B[32m     41\u001B[39m                    add_matrix(B11, B12, bucket), mid, bucket)\n\u001B[32m     42\u001B[39m M4 = _strassen_rec(add_matrix(A11, A12, bucket),\n\u001B[32m     43\u001B[39m                    B22, mid, bucket)\n\u001B[32m---> \u001B[39m\u001B[32m44\u001B[39m M5 = \u001B[43m_strassen_rec\u001B[49m\u001B[43m(\u001B[49m\u001B[43mA11\u001B[49m\u001B[43m,\u001B[49m\n\u001B[32m     45\u001B[39m \u001B[43m                   \u001B[49m\u001B[43msub_matrix\u001B[49m\u001B[43m(\u001B[49m\u001B[43mB12\u001B[49m\u001B[43m,\u001B[49m\u001B[43m \u001B[49m\u001B[43mB22\u001B[49m\u001B[43m,\u001B[49m\u001B[43m \u001B[49m\u001B[43mbucket\u001B[49m\u001B[43m)\u001B[49m\u001B[43m,\u001B[49m\u001B[43m \u001B[49m\u001B[43mmid\u001B[49m\u001B[43m,\u001B[49m\u001B[43m \u001B[49m\u001B[43mbucket\u001B[49m\u001B[43m)\u001B[49m\n\u001B[32m     46\u001B[39m M6 = _strassen_rec(A22,\n\u001B[32m     47\u001B[39m                    sub_matrix(B21, B11, bucket), mid, bucket)\n\u001B[32m     48\u001B[39m M7 = _strassen_rec(add_matrix(A21, A22, bucket),\n\u001B[32m     49\u001B[39m                    B11, mid, bucket)\n",
      "\u001B[36mCell\u001B[39m\u001B[36m \u001B[39m\u001B[32mIn[3]\u001B[39m\u001B[32m, line 44\u001B[39m, in \u001B[36m_strassen_rec\u001B[39m\u001B[34m(A, B, n, bucket)\u001B[39m\n\u001B[32m     40\u001B[39m M3 = _strassen_rec(sub_matrix(A11, A21, bucket),\n\u001B[32m     41\u001B[39m                    add_matrix(B11, B12, bucket), mid, bucket)\n\u001B[32m     42\u001B[39m M4 = _strassen_rec(add_matrix(A11, A12, bucket),\n\u001B[32m     43\u001B[39m                    B22, mid, bucket)\n\u001B[32m---> \u001B[39m\u001B[32m44\u001B[39m M5 = \u001B[43m_strassen_rec\u001B[49m\u001B[43m(\u001B[49m\u001B[43mA11\u001B[49m\u001B[43m,\u001B[49m\n\u001B[32m     45\u001B[39m \u001B[43m                   \u001B[49m\u001B[43msub_matrix\u001B[49m\u001B[43m(\u001B[49m\u001B[43mB12\u001B[49m\u001B[43m,\u001B[49m\u001B[43m \u001B[49m\u001B[43mB22\u001B[49m\u001B[43m,\u001B[49m\u001B[43m \u001B[49m\u001B[43mbucket\u001B[49m\u001B[43m)\u001B[49m\u001B[43m,\u001B[49m\u001B[43m \u001B[49m\u001B[43mmid\u001B[49m\u001B[43m,\u001B[49m\u001B[43m \u001B[49m\u001B[43mbucket\u001B[49m\u001B[43m)\u001B[49m\n\u001B[32m     46\u001B[39m M6 = _strassen_rec(A22,\n\u001B[32m     47\u001B[39m                    sub_matrix(B21, B11, bucket), mid, bucket)\n\u001B[32m     48\u001B[39m M7 = _strassen_rec(add_matrix(A21, A22, bucket),\n\u001B[32m     49\u001B[39m                    B11, mid, bucket)\n",
      "\u001B[36mCell\u001B[39m\u001B[36m \u001B[39m\u001B[32mIn[3]\u001B[39m\u001B[32m, line 44\u001B[39m, in \u001B[36m_strassen_rec\u001B[39m\u001B[34m(A, B, n, bucket)\u001B[39m\n\u001B[32m     40\u001B[39m M3 = _strassen_rec(sub_matrix(A11, A21, bucket),\n\u001B[32m     41\u001B[39m                    add_matrix(B11, B12, bucket), mid, bucket)\n\u001B[32m     42\u001B[39m M4 = _strassen_rec(add_matrix(A11, A12, bucket),\n\u001B[32m     43\u001B[39m                    B22, mid, bucket)\n\u001B[32m---> \u001B[39m\u001B[32m44\u001B[39m M5 = \u001B[43m_strassen_rec\u001B[49m\u001B[43m(\u001B[49m\u001B[43mA11\u001B[49m\u001B[43m,\u001B[49m\n\u001B[32m     45\u001B[39m \u001B[43m                   \u001B[49m\u001B[43msub_matrix\u001B[49m\u001B[43m(\u001B[49m\u001B[43mB12\u001B[49m\u001B[43m,\u001B[49m\u001B[43m \u001B[49m\u001B[43mB22\u001B[49m\u001B[43m,\u001B[49m\u001B[43m \u001B[49m\u001B[43mbucket\u001B[49m\u001B[43m)\u001B[49m\u001B[43m,\u001B[49m\u001B[43m \u001B[49m\u001B[43mmid\u001B[49m\u001B[43m,\u001B[49m\u001B[43m \u001B[49m\u001B[43mbucket\u001B[49m\u001B[43m)\u001B[49m\n\u001B[32m     46\u001B[39m M6 = _strassen_rec(A22,\n\u001B[32m     47\u001B[39m                    sub_matrix(B21, B11, bucket), mid, bucket)\n\u001B[32m     48\u001B[39m M7 = _strassen_rec(add_matrix(A21, A22, bucket),\n\u001B[32m     49\u001B[39m                    B11, mid, bucket)\n",
      "\u001B[36mCell\u001B[39m\u001B[36m \u001B[39m\u001B[32mIn[3]\u001B[39m\u001B[32m, line 41\u001B[39m, in \u001B[36m_strassen_rec\u001B[39m\u001B[34m(A, B, n, bucket)\u001B[39m\n\u001B[32m     36\u001B[39m M1 = _strassen_rec(sub_matrix(A12, A22, bucket),\n\u001B[32m     37\u001B[39m                    add_matrix(B21, B22, bucket), mid, bucket)\n\u001B[32m     38\u001B[39m M2 = _strassen_rec(add_matrix(A11, A22, bucket),\n\u001B[32m     39\u001B[39m                    add_matrix(B11, B22, bucket), mid, bucket)\n\u001B[32m     40\u001B[39m M3 = _strassen_rec(sub_matrix(A11, A21, bucket),\n\u001B[32m---> \u001B[39m\u001B[32m41\u001B[39m                    \u001B[43madd_matrix\u001B[49m\u001B[43m(\u001B[49m\u001B[43mB11\u001B[49m\u001B[43m,\u001B[49m\u001B[43m \u001B[49m\u001B[43mB12\u001B[49m\u001B[43m,\u001B[49m\u001B[43m \u001B[49m\u001B[43mbucket\u001B[49m\u001B[43m)\u001B[49m, mid, bucket)\n\u001B[32m     42\u001B[39m M4 = _strassen_rec(add_matrix(A11, A12, bucket),\n\u001B[32m     43\u001B[39m                    B22, mid, bucket)\n\u001B[32m     44\u001B[39m M5 = _strassen_rec(A11,\n\u001B[32m     45\u001B[39m                    sub_matrix(B12, B22, bucket), mid, bucket)\n",
      "\u001B[36mCell\u001B[39m\u001B[36m \u001B[39m\u001B[32mIn[3]\u001B[39m\u001B[32m, line 4\u001B[39m, in \u001B[36madd_matrix\u001B[39m\u001B[34m(A, B, bucket)\u001B[39m\n\u001B[32m      2\u001B[39m n = \u001B[38;5;28mlen\u001B[39m(A)\n\u001B[32m      3\u001B[39m bucket[\u001B[32m0\u001B[39m] += n*n                  \u001B[38;5;66;03m# hitung penjumlahan\u001B[39;00m\n\u001B[32m----> \u001B[39m\u001B[32m4\u001B[39m \u001B[38;5;28;01mreturn\u001B[39;00m [[A[i][j] + B[i][j] \u001B[38;5;28;01mfor\u001B[39;00m j \u001B[38;5;129;01min\u001B[39;00m \u001B[38;5;28mrange\u001B[39m(n)] \u001B[38;5;28;01mfor\u001B[39;00m i \u001B[38;5;129;01min\u001B[39;00m \u001B[38;5;28mrange\u001B[39m(n)]\n",
      "\u001B[31mKeyboardInterrupt\u001B[39m: "
     ]
    }
   ],
   "execution_count": 4
  }
 ],
 "metadata": {
  "kernelspec": {
   "display_name": "Python 3",
   "language": "python",
   "name": "python3"
  },
  "language_info": {
   "codemirror_mode": {
    "name": "ipython",
    "version": 2
   },
   "file_extension": ".py",
   "mimetype": "text/x-python",
   "name": "python",
   "nbconvert_exporter": "python",
   "pygments_lexer": "ipython2",
   "version": "2.7.6"
  }
 },
 "nbformat": 4,
 "nbformat_minor": 5
}
