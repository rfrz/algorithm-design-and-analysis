{
 "cells": [
  {
   "metadata": {
    "ExecuteTime": {
     "end_time": "2025-05-23T04:33:49.599338Z",
     "start_time": "2025-05-23T04:33:49.593743Z"
    }
   },
   "cell_type": "code",
   "source": [
    "import time\n",
    "import random\n",
    "import pandas as pd\n",
    "import matplotlib.pyplot as plt"
   ],
   "id": "2245d1f4da4931e1",
   "outputs": [],
   "execution_count": 9
  },
  {
   "metadata": {
    "ExecuteTime": {
     "end_time": "2025-05-23T04:33:49.624104Z",
     "start_time": "2025-05-23T04:33:49.618889Z"
    }
   },
   "cell_type": "code",
   "source": [
    "def KaliMatriks(A, B, n):\n",
    "    \"\"\"\n",
    "    Brute-force matrix multiplication.\n",
    "    Kembalikan (C, op_count) di mana op_count = # (mul + add).\n",
    "    \"\"\"\n",
    "    C = [[0]*n for _ in range(n)]\n",
    "    ops = 0\n",
    "    for i in range(n):\n",
    "        for j in range(n):\n",
    "            for k in range(n):\n",
    "                C[i][j] += A[i][k] * B[k][j]\n",
    "                ops += 2    # satu multiplikasi + satu penjumlahan\n",
    "    return C, ops"
   ],
   "id": "7faeb4628222be4c",
   "outputs": [],
   "execution_count": 10
  },
  {
   "metadata": {
    "ExecuteTime": {
     "end_time": "2025-05-23T04:33:49.651817Z",
     "start_time": "2025-05-23T04:33:49.641644Z"
    }
   },
   "cell_type": "code",
   "source": [
    "def add_matrix(A, B, bucket):\n",
    "    n = len(A)\n",
    "    bucket[0] += n*n                  # hitung penjumlahan\n",
    "    return [[A[i][j] + B[i][j] for j in range(n)] for i in range(n)]\n",
    "\n",
    "def sub_matrix(A, B, bucket):\n",
    "    n = len(A)\n",
    "    bucket[0] += n*n                  # hitung pengurangan\n",
    "    return [[A[i][j] - B[i][j] for j in range(n)] for i in range(n)]\n",
    "#———————————————————————————————————————\n",
    "# 3. Strassen + bucket global utk ops\n",
    "#———————————————————————————————————————\n",
    "def KaliMatriksStrassen(A, B, n):\n",
    "    bucket = [0]                      # wadah bersama\n",
    "    C = _strassen_rec(A, B, n, bucket)\n",
    "    return C, bucket[0]               # jaga antarmuka lama\n",
    "\n",
    "def _strassen_rec(A, B, n, bucket):\n",
    "    if n == 1:                        # basis rekursi\n",
    "        bucket[0] += 1                # 1 perkalian skalar\n",
    "        return [[A[0][0] * B[0][0]]]\n",
    "\n",
    "    mid = n // 2\n",
    "    # — split —\n",
    "    A11 = [row[:mid] for row in A[:mid]]\n",
    "    A12 = [row[mid:] for row in A[:mid]]\n",
    "    A21 = [row[:mid] for row in A[mid:]]\n",
    "    A22 = [row[mid:] for row in A[mid:]]\n",
    "\n",
    "    B11 = [row[:mid] for row in B[:mid]]\n",
    "    B12 = [row[mid:] for row in B[:mid]]\n",
    "    B21 = [row[:mid] for row in B[mid:]]\n",
    "    B22 = [row[mid:] for row in B[mid:]]\n",
    "\n",
    "    # — 7 proyek Strassen —\n",
    "    M1 = _strassen_rec(sub_matrix(A12, A22, bucket),\n",
    "                       add_matrix(B21, B22, bucket), mid, bucket)\n",
    "    M2 = _strassen_rec(add_matrix(A11, A22, bucket),\n",
    "                       add_matrix(B11, B22, bucket), mid, bucket)\n",
    "    M3 = _strassen_rec(sub_matrix(A11, A21, bucket),\n",
    "                       add_matrix(B11, B12, bucket), mid, bucket)\n",
    "    M4 = _strassen_rec(add_matrix(A11, A12, bucket),\n",
    "                       B22, mid, bucket)\n",
    "    M5 = _strassen_rec(A11,\n",
    "                       sub_matrix(B12, B22, bucket), mid, bucket)\n",
    "    M6 = _strassen_rec(A22,\n",
    "                       sub_matrix(B21, B11, bucket), mid, bucket)\n",
    "    M7 = _strassen_rec(add_matrix(A21, A22, bucket),\n",
    "                       B11, mid, bucket)\n",
    "\n",
    "    # — rakit C —\n",
    "    C11 = add_matrix(sub_matrix(add_matrix(M1, M2, bucket),\n",
    "                                M4, bucket), M6, bucket)\n",
    "    C12 = add_matrix(M4, M5, bucket)\n",
    "    C21 = add_matrix(M6, M7, bucket)\n",
    "    C22 = sub_matrix(add_matrix(sub_matrix(M2, M3, bucket),\n",
    "                                M5, bucket), M7, bucket)\n",
    "\n",
    "    C = [[0]*n for _ in range(n)]\n",
    "    for i in range(mid):\n",
    "        C[i][:mid]       = C11[i]\n",
    "        C[i][mid:]       = C12[i]\n",
    "        C[mid+i][:mid]   = C21[i]\n",
    "        C[mid+i][mid:]   = C22[i]\n",
    "    return C"
   ],
   "id": "a988eda34eede271",
   "outputs": [],
   "execution_count": 11
  },
  {
   "metadata": {
    "jupyter": {
     "is_executing": true
    },
    "ExecuteTime": {
     "start_time": "2025-05-23T04:33:49.668773Z"
    }
   },
   "cell_type": "code",
   "source": [
    "n_values = [2, 4, 8, 16, 32, 64, 512, 1024]\n",
    "records = []\n",
    "\n",
    "for n in n_values:\n",
    "    A = [[random.randint(0,10) for _ in range(n)] for _ in range(n)]\n",
    "    B = [[random.randint(0,10) for _ in range(n)] for _ in range(n)]\n",
    "\n",
    "    t0 = time.perf_counter()\n",
    "    _, bf_ops = KaliMatriks(A, B, n)\n",
    "    t_bf = time.perf_counter() - t0\n",
    "\n",
    "    t0 = time.perf_counter()\n",
    "    _, st_ops = KaliMatriksStrassen(A, B, n)\n",
    "    t_st = time.perf_counter() - t0\n",
    "\n",
    "    records.append({'n': n, 'time_bf': t_bf, 'ops_bf': bf_ops,\n",
    "                            'time_st': t_st, 'ops_st': st_ops})\n",
    "\n",
    "df = pd.DataFrame(records)\n",
    "print(df.to_string(index=False))\n",
    "\n",
    "plt.figure()\n",
    "plt.plot(df['n'], df['time_bf'], label='Brute-Force')\n",
    "plt.plot(df['n'], df['time_st'], label='Strassen (bucket)')\n",
    "plt.xlabel('n'); plt.ylabel('Waktu (s)'); plt.legend(); plt.title('Waktu vs n')\n",
    "\n",
    "plt.figure()\n",
    "plt.plot(df['n'], df['ops_bf'], label='Brute-Force')\n",
    "plt.plot(df['n'], df['ops_st'], label='Strassen (bucket)')\n",
    "plt.xlabel('n'); plt.ylabel('Jumlah Operasi'); plt.legend(); plt.title('Operasi vs n')\n",
    "plt.show()"
   ],
   "id": "ebbd153fe62d8e2d",
   "outputs": [],
   "execution_count": null
  }
 ],
 "metadata": {
  "kernelspec": {
   "display_name": "Python 3",
   "language": "python",
   "name": "python3"
  },
  "language_info": {
   "codemirror_mode": {
    "name": "ipython",
    "version": 2
   },
   "file_extension": ".py",
   "mimetype": "text/x-python",
   "name": "python",
   "nbconvert_exporter": "python",
   "pygments_lexer": "ipython2",
   "version": "2.7.6"
  }
 },
 "nbformat": 4,
 "nbformat_minor": 5
}
