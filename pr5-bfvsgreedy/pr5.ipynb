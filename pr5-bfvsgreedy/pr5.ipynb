{
 "cells": [
  {
   "metadata": {
    "ExecuteTime": {
     "end_time": "2025-06-21T16:06:44.830799Z",
     "start_time": "2025-06-21T16:06:44.825308Z"
    }
   },
   "cell_type": "code",
   "source": [
    "import time\n",
    "import math\n",
    "import matplotlib.pyplot as plt\n",
    "from fractions import Fraction\n",
    "from itertools import combinations"
   ],
   "id": "4f0806508cac5a79",
   "outputs": [],
   "execution_count": 42
  },
  {
   "metadata": {
    "ExecuteTime": {
     "end_time": "2025-06-21T16:06:44.857571Z",
     "start_time": "2025-06-21T16:06:44.851201Z"
    }
   },
   "cell_type": "code",
   "source": [
    "# ==============================================================================\n",
    "# Fungsi Greedy (tidak berubah, digunakan sebagai helper)\n",
    "# ==============================================================================\n",
    "def greedy_egyptian_benchmark(p, q):\n",
    "    \"\"\"\n",
    "    Versi benchmark dari algoritma Greedy.\n",
    "    Mengembalikan list penyebut untuk diolah lebih lanjut.\n",
    "    \"\"\"\n",
    "    # Menggunakan objek Fraction untuk penanganan pecahan yang lebih aman.\n",
    "    frac = Fraction(p, q)\n",
    "    denominators = []\n",
    "\n",
    "    while frac.numerator != 0:\n",
    "        # math.ceil(1 / frac) secara otomatis menghitung penyebut berikutnya.\n",
    "        x = math.ceil(1 / frac)\n",
    "        denominators.append(x)\n",
    "        # Kurangi pecahan dengan 1/x untuk iterasi selanjutnya.\n",
    "        frac -= Fraction(1, x)\n",
    "\n",
    "    return denominators"
   ],
   "id": "5d331569046d2601",
   "outputs": [],
   "execution_count": 43
  },
  {
   "metadata": {
    "ExecuteTime": {
     "end_time": "2025-06-21T16:06:44.887353Z",
     "start_time": "2025-06-21T16:06:44.872567Z"
    }
   },
   "cell_type": "code",
   "source": [
    "# ==============================================================================\n",
    "# MESIN BRUTE FORCE BARU: Stewart's Bounded Recursive Method\n",
    "# ==============================================================================\n",
    "\n",
    "def _get_divisors(n):\n",
    "    \"\"\"Fungsi helper untuk mendapatkan semua pembagi dari sebuah angka n.\"\"\"\n",
    "    divs = set()\n",
    "    for i in range(1, int(math.sqrt(n)) + 1):\n",
    "        if n % i == 0:\n",
    "            divs.add(i)\n",
    "            divs.add(n//i)\n",
    "    return sorted(list(divs))\n",
    "\n",
    "def _solve_two_terms(frac, min_denom):\n",
    "    \"\"\"\n",
    "    Fungsi khusus yang dioptimalkan untuk menyelesaikan x/y = 1/a + 1/b.\n",
    "    Ini adalah implementasi dari 'EgyptTwoTerm'.\n",
    "    \"\"\"\n",
    "    x, y = frac.numerator, frac.denominator\n",
    "    solutions = []\n",
    "\n",
    "    # Kita cari faktor r dari y^2\n",
    "    y_squared_divs = _get_divisors(y**2)\n",
    "\n",
    "    for r in y_squared_divs:\n",
    "        # Optimasi: s = y^2 / r, kita hanya perlu cek sampai r <= y\n",
    "        if r > y:\n",
    "            break\n",
    "\n",
    "        s = (y**2) // r\n",
    "\n",
    "        # Cek apakah (r+y) bisa dibagi habis oleh x\n",
    "        if (r + y) % x == 0:\n",
    "            a = (r + y) // x\n",
    "            # Cek juga apakah (s+y) bisa dibagi habis oleh x\n",
    "            if (s + y) % x == 0:\n",
    "                b = (s + y) // x\n",
    "                # Pastikan penyebut baru tidak lebih kecil dari batas minimum\n",
    "                # dan a < b untuk menghindari duplikat\n",
    "                if a >= min_denom and a < b:\n",
    "                    solutions.append([a, b])\n",
    "\n",
    "    # Kembalikan solusi terpendek (jika ada beberapa)\n",
    "    return solutions[0] if solutions else None\n",
    "\n",
    "\n",
    "def _stewart_recursive(q, k, min_denom, current_denoms):\n",
    "    \"\"\"\n",
    "    Fungsi rekursif inti berdasarkan metode Stewart.\n",
    "    q: sisa pecahan, k: sisa suku, min_denom: penyebut terkecil berikutnya,\n",
    "    current_denoms: list penyebut yang sudah ditemukan.\n",
    "    \"\"\"\n",
    "    # KASUS DASAR 1: Jika pecahan habis, kita berhasil.\n",
    "    if q == 0:\n",
    "        return current_denoms\n",
    "\n",
    "    # KASUS DASAR 2: Jika sisa suku adalah 2, gunakan metode optimisasi.\n",
    "    if k <= 2:\n",
    "        two_term_solution = _solve_two_terms(q, min_denom)\n",
    "        if two_term_solution:\n",
    "            return current_denoms + two_term_solution\n",
    "        else:\n",
    "            return None # Gagal menemukan solusi 2 suku\n",
    "\n",
    "    # BATAS PENCARIAN CERDAS (Kunci dari Metode Stewart)\n",
    "    # Batas bawah untuk penyebut berikutnya 'i'\n",
    "    lower_bound = max(min_denom, math.ceil(1/q))\n",
    "    # Batas atas untuk penyebut berikutnya 'i'\n",
    "    upper_bound = math.floor(k/q)\n",
    "\n",
    "    # Lakukan loop rekursif dalam batas yang sudah ditentukan\n",
    "    for i in range(lower_bound, upper_bound + 1):\n",
    "        # Panggil diri sendiri dengan sisa pecahan, sisa suku berkurang 1,\n",
    "        # dan penyebut minimum berikutnya adalah i + 1.\n",
    "        result = _stewart_recursive(\n",
    "            q - Fraction(1, i),\n",
    "            k - 1,\n",
    "            i + 1,\n",
    "            current_denoms + [i]\n",
    "        )\n",
    "        # Jika panggilan rekursif tadi menemukan solusi, langsung kembalikan.\n",
    "        if result:\n",
    "            return result\n",
    "\n",
    "    # Jika semua kemungkinan 'i' sudah dicoba dan tidak ada solusi\n",
    "    return None\n",
    "\n",
    "def brute_force_stewart_method(x, y):\n",
    "    \"\"\"\n",
    "    Fungsi pembungkus yang memulai pencarian menggunakan metode Stewart.\n",
    "    \"\"\"\n",
    "    print(\"Menjalankan Brute Force (Stewart's Bounded Method)...\")\n",
    "    frac = Fraction(x, y)\n",
    "\n",
    "    # Kita mulai mencari dari 2 suku, lalu 3, dst. (Iterative Deepening)\n",
    "    k = 2\n",
    "    while True:\n",
    "        print(f\"  > Mencari solusi dengan {k} suku...\")\n",
    "        solution = _stewart_recursive(frac, k, 1, [])\n",
    "\n",
    "        if solution:\n",
    "            return solution\n",
    "\n",
    "        k += 1\n",
    "        # Pengaman darurat agar tidak berjalan selamanya\n",
    "        if k > 10:\n",
    "            return [\"Gagal menemukan solusi dalam 10 suku\"]"
   ],
   "id": "b8483bf037bf6d08",
   "outputs": [],
   "execution_count": 44
  },
  {
   "metadata": {
    "ExecuteTime": {
     "end_time": "2025-06-21T16:06:45.154400Z",
     "start_time": "2025-06-21T16:06:44.902697Z"
    }
   },
   "cell_type": "code",
   "source": [
    "# ==============================================================================\n",
    "# SKRIP UTAMA UNTUK BENCHMARK DAN PLOT\n",
    "# ==============================================================================\n",
    "\n",
    "# Pecahan yang akan diuji. Coba ubah-ubah nilai ini!\n",
    "pembilang = 4\n",
    "penyebut = 13\n",
    "\n",
    "print(f\"Memulai benchmark untuk pecahan: {pembilang}/{penyebut}\\n\")\n",
    "\n",
    "# --- Benchmark Algoritma Greedy ---\n",
    "print(\"Menjalankan Greedy...\")\n",
    "start_time_greedy = time.perf_counter()\n",
    "result_greedy = greedy_egyptian_benchmark(pembilang, penyebut)\n",
    "end_time_greedy = time.perf_counter()\n",
    "time_greedy = end_time_greedy - start_time_greedy\n",
    "print(f\"Hasil Greedy: 1/{' + 1/'.join(map(str, result_greedy))}\")\n",
    "print(f\"Waktu eksekusi Greedy: {time_greedy:.10f} detik\\n\")\n",
    "\n",
    "\n",
    "# --- Benchmark Algoritma Brute Force BARU (Metode Stewart) ---\n",
    "start_time_bf = time.perf_counter()\n",
    "result_bf = brute_force_stewart_method(pembilang, penyebut)\n",
    "end_time_bf = time.perf_counter()\n",
    "time_bf = end_time_bf - start_time_bf\n",
    "\n",
    "if result_bf and isinstance(result_bf[0], int):\n",
    "    print(f\"Hasil Brute Force (Stewart's): 1/{' + 1/'.join(map(str, result_bf))}\")\n",
    "else:\n",
    "    print(\"Brute force gagal menemukan solusi.\")\n",
    "print(f\"Waktu eksekusi Brute Force: {time_bf:.10f} detik\\n\")\n",
    "\n",
    "\n",
    "# --- Membuat Plot Grafik ---\n",
    "print(\"Membuat visualisasi grafik...\")\n",
    "\n",
    "algorithms = ['Greedy', \"Brute Force (Stewart's)\"]\n",
    "times = [time_greedy, time_bf]\n",
    "\n",
    "plt.figure(figsize=(10, 6))\n",
    "bars = plt.bar(algorithms, times, color=['#4CAF50', '#2196F3'])\n",
    "\n",
    "plt.ylabel('Waktu Eksekusi (detik)')\n",
    "plt.title(f'Perbandingan Kecepatan Algoritma untuk Pecahan {pembilang}/{penyebut}')\n",
    "plt.yscale('log')\n",
    "plt.ylabel('Waktu Eksekusi (detik) - Skala Log')\n",
    "\n",
    "for bar in bars:\n",
    "    yval = bar.get_height()\n",
    "    plt.text(bar.get_x() + bar.get_width()/2.0, yval, f'{yval:.6f} s', va='bottom', ha='center')\n",
    "\n",
    "plt.show()\n"
   ],
   "id": "275ccbeb9e13899e",
   "outputs": [
    {
     "name": "stdout",
     "output_type": "stream",
     "text": [
      "Memulai benchmark untuk pecahan: 4/13\n",
      "\n",
      "Menjalankan Greedy...\n",
      "Hasil Greedy: 1/4 + 1/18 + 1/468\n",
      "Waktu eksekusi Greedy: 0.0001043000 detik\n",
      "\n",
      "Menjalankan Brute Force (Stewart's Bounded Method)...\n",
      "  > Mencari solusi dengan 2 suku...\n",
      "  > Mencari solusi dengan 3 suku...\n",
      "Hasil Brute Force (Stewart's): 1/4 + 1/18 + 1/468\n",
      "Waktu eksekusi Brute Force: 0.0001601000 detik\n",
      "\n",
      "Membuat visualisasi grafik...\n"
     ]
    },
    {
     "data": {
      "text/plain": [
       "<Figure size 1000x600 with 1 Axes>"
      ],
      "image/png": "[encoded data removed]"
     },
     "metadata": {},
     "output_type": "display_data"
    }
   ],
   "execution_count": 45
  },
  {
   "metadata": {
    "ExecuteTime": {
     "end_time": "2025-06-21T16:06:45.178327Z",
     "start_time": "2025-06-21T16:06:45.174777Z"
    }
   },
   "cell_type": "code",
   "source": "",
   "id": "517d67e606f36d49",
   "outputs": [],
   "execution_count": null
  }
 ],
 "metadata": {
  "kernelspec": {
   "display_name": "Python 3",
   "language": "python",
   "name": "python3"
  },
  "language_info": {
   "codemirror_mode": {
    "name": "ipython",
    "version": 2
   },
   "file_extension": ".py",
   "mimetype": "text/x-python",
   "name": "python",
   "nbconvert_exporter": "python",
   "pygments_lexer": "ipython2",
   "version": "2.7.6"
  }
 },
 "nbformat": 4,
 "nbformat_minor": 5
}
