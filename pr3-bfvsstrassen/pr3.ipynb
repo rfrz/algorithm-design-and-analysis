{
 "cells": [
  {
   "metadata": {
    "ExecuteTime": {
     "end_time": "2025-05-22T18:01:45.761354Z",
     "start_time": "2025-05-22T18:01:44.658401Z"
    }
   },
   "cell_type": "code",
   "source": [
    "import time\n",
    "import random\n",
    "import pandas as pd\n",
    "import matplotlib.pyplot as plt"
   ],
   "id": "2245d1f4da4931e1",
   "outputs": [],
   "execution_count": 1
  },
  {
   "metadata": {
    "ExecuteTime": {
     "end_time": "2025-05-22T18:01:45.785077Z",
     "start_time": "2025-05-22T18:01:45.778477Z"
    }
   },
   "cell_type": "code",
   "source": [
    "def KaliMatriks(A, B, n):\n",
    "    \"\"\"\n",
    "    Mengalikan matriks A dan B yang berukuran n × n,\n",
    "    menghasilkan matriks C yang juga berukuran n × n\n",
    "    \"\"\"\n",
    "    # Deklarasi i, j, k : integer\n",
    "    # Inisialisasi C sebagai matriks n×n berisi nol\n",
    "    C = [[0 for j in range(n)] for i in range(n)]\n",
    "\n",
    "    # Algoritma:\n",
    "    for i in range(n):                  # for i ← 1 to n do\n",
    "        for j in range(n):              #   for j ← 1 to n do\n",
    "            C[i][j] = 0                 #     C[i, j] ← 0 {inisialisasi penjumlah}\n",
    "            for k in range(n):          #     for k ← 1 to n do\n",
    "                C[i][j] = C[i][j] + A[i][k] * B[k][j]\n",
    "            #     endfor\n",
    "        #   endfor\n",
    "    # endfor\n",
    "\n",
    "    return C\n"
   ],
   "id": "79c97a57d25fa968",
   "outputs": [],
   "execution_count": 2
  },
  {
   "metadata": {
    "ExecuteTime": {
     "end_time": "2025-05-22T18:01:45.800875Z",
     "start_time": "2025-05-22T18:01:45.792312Z"
    }
   },
   "cell_type": "code",
   "source": [
    "def add_matrix_count(A, B, counter):\n",
    "    n = len(A)\n",
    "    C = [[0] * n for _ in range(n)]\n",
    "    for i in range(n):\n",
    "        for j in range(n):\n",
    "            counter['count'] += 1\n",
    "            C[i][j] = A[i][j] + B[i][j]\n",
    "    return C\n",
    "\n",
    "def sub_matrix_count(A, B, counter):\n",
    "    n = len(A)\n",
    "    C = [[0] * n for _ in range(n)]\n",
    "    for i in range(n):\n",
    "        for j in range(n):\n",
    "            counter['count'] += 1\n",
    "            C[i][j] = A[i][j] - B[i][j]\n",
    "    return C\n",
    "\n",
    "def KaliMatriksStrassen_count(A, B, n, counter):\n",
    "    \"\"\"Strassen multiplication with counting operations.\"\"\"\n",
    "    if n == 1:\n",
    "        counter['count'] += 1  # one scalar multiplication\n",
    "        return [[A[0][0] * B[0][0]]]\n",
    "    mid = n // 2\n",
    "    A11 = [[A[i][j] for j in range(mid)] for i in range(mid)]\n",
    "    A12 = [[A[i][j] for j in range(mid, n)] for i in range(mid)]\n",
    "    A21 = [[A[i][j] for j in range(mid)] for i in range(mid, n)]\n",
    "    A22 = [[A[i][j] for j in range(mid, n)] for i in range(mid, n)]\n",
    "    B11 = [[B[i][j] for j in range(mid)] for i in range(mid)]\n",
    "    B12 = [[B[i][j] for j in range(mid, n)] for i in range(mid)]\n",
    "    B21 = [[B[i][j] for j in range(mid)] for i in range(mid, n)]\n",
    "    B22 = [[B[i][j] for j in range(mid, n)] for i in range(mid, n)]\n",
    "\n",
    "    M1 = KaliMatriksStrassen_count(sub_matrix_count(A12, A22, counter), add_matrix_count(B21, B22, counter), mid, counter)\n",
    "    M2 = KaliMatriksStrassen_count(add_matrix_count(A11, A22, counter), add_matrix_count(B11, B22, counter), mid, counter)\n",
    "    M3 = KaliMatriksStrassen_count(sub_matrix_count(A11, A21, counter), add_matrix_count(B11, B12, counter), mid, counter)\n",
    "    M4 = KaliMatriksStrassen_count(add_matrix_count(A11, A12, counter), B22, mid, counter)\n",
    "    M5 = KaliMatriksStrassen_count(A11, sub_matrix_count(B12, B22, counter), mid, counter)\n",
    "    M6 = KaliMatriksStrassen_count(A22, sub_matrix_count(B21, B11, counter), mid, counter)\n",
    "    M7 = KaliMatriksStrassen_count(add_matrix_count(A21, A22, counter), B11, mid, counter)\n",
    "\n",
    "    C11 = add_matrix_count(sub_matrix_count(add_matrix_count(M1, M2, counter), M4, counter), M6, counter)\n",
    "    C12 = add_matrix_count(M4, M5, counter)\n",
    "    C21 = add_matrix_count(M6, M7, counter)\n",
    "    temp = add_matrix_count(sub_matrix_count(M2, M3, counter), M5, counter)\n",
    "    C22 = sub_matrix_count(temp, M7, counter)\n",
    "\n",
    "    C = [[0] * n for _ in range(n)]\n",
    "    for i in range(mid):\n",
    "        for j in range(mid):\n",
    "            C[i][j] = C11[i][j]\n",
    "            C[i][j+mid] = C12[i][j]\n",
    "            C[i+mid][j] = C21[i][j]\n",
    "            C[i+mid][j+mid] = C22[i][j]\n",
    "    return C"
   ],
   "id": "7faeb4628222be4c",
   "outputs": [],
   "execution_count": 3
  },
  {
   "metadata": {
    "ExecuteTime": {
     "end_time": "2025-05-22T18:01:45.952770Z",
     "start_time": "2025-05-22T18:01:45.946923Z"
    }
   },
   "cell_type": "code",
   "source": [
    "def KaliMatriks_count(A, B, n, counter):\n",
    "    \"\"\"Brute-force multiplication with operation counting.\"\"\"\n",
    "    C = [[0 for _ in range(n)] for _ in range(n)]\n",
    "    for i in range(n):\n",
    "        for j in range(n):\n",
    "            for k in range(n):\n",
    "                # One multiplication and one addition per loop\n",
    "                counter['count'] += 2\n",
    "                C[i][j] += A[i][k] * B[k][j]\n",
    "    return C"
   ],
   "id": "a988eda34eede271",
   "outputs": [],
   "execution_count": 4
  },
  {
   "metadata": {
    "jupyter": {
     "is_executing": true
    },
    "ExecuteTime": {
     "start_time": "2025-05-22T18:01:45.965673Z"
    }
   },
   "cell_type": "code",
   "source": [
    "# Measurement\n",
    "n_values = [2, 4, 8, 16, 32, 64, 512, 1024, 2048, 4096]\n",
    "results_time = []\n",
    "results_ops = []\n",
    "\n",
    "for n in n_values:\n",
    "    # Generate random matrices\n",
    "    A = [[random.randint(0, 9999) for _ in range(n)] for _ in range(n)]\n",
    "    B = [[random.randint(0, 9999) for _ in range(n)] for _ in range(n)]\n",
    "\n",
    "    # Measure brute-force time\n",
    "    start = time.perf_counter()\n",
    "    KaliMatriks(A, B, n)\n",
    "    t_bf = time.perf_counter() - start\n",
    "\n",
    "    # Measure Strassen time\n",
    "    start = time.perf_counter()\n",
    "    KaliMatriksStrassen_count(A, B, n, {'count': 0})\n",
    "    t_str = time.perf_counter() - start\n",
    "\n",
    "    # Measure operations\n",
    "    counter_bf = {'count': 0}\n",
    "    KaliMatriks_count(A, B, n, counter_bf)\n",
    "    counter_str = {'count': 0}\n",
    "    KaliMatriksStrassen_count(A, B, n, counter_str)\n",
    "\n",
    "    results_time.append({'n': n, 'BruteForce(s)': t_bf, 'Strassen(s)': t_str})\n",
    "    results_ops.append({'n': n, 'BruteForce': counter_bf['count'], 'Strassen': counter_str['count']})\n",
    "\n",
    "# Create DataFrames\n",
    "df_time = pd.DataFrame(results_time)\n",
    "df_ops = pd.DataFrame(results_ops)\n",
    "\n",
    "# # Show tables\n",
    "# import ace_tools as tools; tools.display_dataframe_to_user(name=\"Waktu Elapsed vs n\", dataframe=df_time)\n",
    "# import ace_tools as tools; tools.display_dataframe_to_user(name=\"Jumlah Operasi vs n\", dataframe=df_ops)\n",
    "\n",
    "# Plot Time vs n\n",
    "plt.figure()\n",
    "plt.plot(df_time['n'], df_time['BruteForce(s)'], label='Brute Force')\n",
    "plt.plot(df_time['n'], df_time['Strassen(s)'], label='Strassen')\n",
    "plt.xlabel('Ukuran n')\n",
    "plt.ylabel('Waktu (detik)')\n",
    "plt.title('Perbandingan Waktu Eksekusi')\n",
    "plt.legend()\n",
    "plt.show()\n",
    "\n",
    "# Plot Ops vs n\n",
    "plt.figure()\n",
    "plt.plot(df_ops['n'], df_ops['BruteForce'], label='Brute Force')\n",
    "plt.plot(df_ops['n'], df_ops['Strassen'], label='Strassen')\n",
    "plt.xlabel('Ukuran n')\n",
    "plt.ylabel('Jumlah Operasi')\n",
    "plt.title('Perbandingan Kompleksitas Operasi')\n",
    "plt.legend()\n",
    "plt.show()"
   ],
   "id": "ebbd153fe62d8e2d",
   "outputs": [],
   "execution_count": null
  }
 ],
 "metadata": {
  "kernelspec": {
   "display_name": "Python 3",
   "language": "python",
   "name": "python3"
  },
  "language_info": {
   "codemirror_mode": {
    "name": "ipython",
    "version": 2
   },
   "file_extension": ".py",
   "mimetype": "text/x-python",
   "name": "python",
   "nbconvert_exporter": "python",
   "pygments_lexer": "ipython2",
   "version": "2.7.6"
  }
 },
 "nbformat": 4,
 "nbformat_minor": 5
}
